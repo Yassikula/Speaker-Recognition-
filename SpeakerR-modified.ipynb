{
 "cells": [
  {
   "cell_type": "code",
   "execution_count": 5,
   "metadata": {
    "executionInfo": {
     "elapsed": 2030,
     "status": "ok",
     "timestamp": 1621952085545,
     "user": {
      "displayName": "Yasasi Kulathunge",
      "photoUrl": "https://lh3.googleusercontent.com/a-/AOh14Gh1m9fAy39AOk16svCWmtjZOyIIqkxz6Tl6Z_g04-Q=s64",
      "userId": "09183028664422477504"
     },
     "user_tz": -330
    },
    "id": "Cvjq2ycW4JQ6"
   },
   "outputs": [],
   "source": [
    "#1\n",
    "import os\n",
    "import shutil\n",
    "import numpy as np\n",
    "import tensorflow as tf\n",
    "from tensorflow import keras\n",
    "from pathlib import Path\n",
    "from IPython.display import display, Audio"
   ]
  },
  {
   "cell_type": "code",
   "execution_count": 6,
   "metadata": {
    "executionInfo": {
     "elapsed": 855,
     "status": "ok",
     "timestamp": 1621952099102,
     "user": {
      "displayName": "Yasasi Kulathunge",
      "photoUrl": "https://lh3.googleusercontent.com/a-/AOh14Gh1m9fAy39AOk16svCWmtjZOyIIqkxz6Tl6Z_g04-Q=s64",
      "userId": "09183028664422477504"
     },
     "user_tz": -330
    },
    "id": "kIdDS-QA4MWi"
   },
   "outputs": [],
   "source": [
    "#2\n",
    "DATASET_ROOT = r\"C:\\Users\\Yasasi\\SR-Test2\\audio\"\n",
    "\n",
    "AUDIO_SUBFOLDER = \"audio\"\n",
    "NOISE_SUBFOLDER = \"noise\"\n",
    "\n",
    "DATASET_AUDIO_PATH = os.path.join(DATASET_ROOT, AUDIO_SUBFOLDER)\n",
    "DATASET_NOISE_PATH = os.path.join(DATASET_ROOT, NOISE_SUBFOLDER)"
   ]
  },
  {
   "cell_type": "code",
   "execution_count": 7,
   "metadata": {
    "executionInfo": {
     "elapsed": 866,
     "status": "ok",
     "timestamp": 1621952109450,
     "user": {
      "displayName": "Yasasi Kulathunge",
      "photoUrl": "https://lh3.googleusercontent.com/a-/AOh14Gh1m9fAy39AOk16svCWmtjZOyIIqkxz6Tl6Z_g04-Q=s64",
      "userId": "09183028664422477504"
     },
     "user_tz": -330
    },
    "id": "YfetE4VV4PiB"
   },
   "outputs": [],
   "source": [
    "#3\n",
    "VALID_SPLIT = 0.1\n",
    "\n",
    "SHUFFLE_SEED = 43\n",
    "\n",
    "SAMPLING_RATE = 16000\n",
    "\n",
    "SCALE = 0.5\n",
    "\n",
    "BATCH_SIZE = 128\n",
    "\n",
    "EPOCHS = 100"
   ]
  },
  {
   "cell_type": "code",
   "execution_count": 8,
   "metadata": {
    "executionInfo": {
     "elapsed": 656,
     "status": "ok",
     "timestamp": 1621952372733,
     "user": {
      "displayName": "Yasasi Kulathunge",
      "photoUrl": "https://lh3.googleusercontent.com/a-/AOh14Gh1m9fAy39AOk16svCWmtjZOyIIqkxz6Tl6Z_g04-Q=s64",
      "userId": "09183028664422477504"
     },
     "user_tz": -330
    },
    "id": "DtCRzctb4SAi"
   },
   "outputs": [],
   "source": [
    "#4\n",
    "# If folder audio, does not exist, create it, otherwise do nothing\n",
    "if os.path.exists(DATASET_AUDIO_PATH) is False:\n",
    "    os.makedirs(DATASET_AUDIO_PATH)\n",
    "\n",
    "# If folder noise, does not exist, create it, otherwise do nothing\n",
    "if os.path.exists(DATASET_NOISE_PATH) is False:\n",
    "    os.makedirs(DATASET_NOISE_PATH)\n",
    "\n",
    "#listdir() returns a list containing the names of the entries in the directory given by path.\n",
    "for folder in os.listdir(DATASET_ROOT):\n",
    "    if os.path.isdir(os.path.join(DATASET_ROOT, folder)):\n",
    "        if folder in [AUDIO_SUBFOLDER, NOISE_SUBFOLDER]:\n",
    "            # If folder is audio or noise, do nothing\n",
    "            continue\n",
    "        elif folder in [\"other\", \"_background_noise_\"]:\n",
    "            # If folder is one of the folders that contains noise samples move it to the noise folder\n",
    "            shutil.move(\n",
    "                os.path.join(DATASET_ROOT, folder),\n",
    "                os.path.join(DATASET_NOISE_PATH, folder),\n",
    "            )\n",
    "        else:\n",
    "            # Otherwise, it should be a speaker folder, then move it to audio folder\n",
    "            shutil.move(\n",
    "                os.path.join(DATASET_ROOT, folder),\n",
    "                os.path.join(DATASET_AUDIO_PATH, folder),\n",
    "            )"
   ]
  },
  {
   "cell_type": "code",
   "execution_count": 9,
   "metadata": {
    "colab": {
     "base_uri": "https://localhost:8080/"
    },
    "executionInfo": {
     "elapsed": 532,
     "status": "ok",
     "timestamp": 1621952394288,
     "user": {
      "displayName": "Yasasi Kulathunge",
      "photoUrl": "https://lh3.googleusercontent.com/a-/AOh14Gh1m9fAy39AOk16svCWmtjZOyIIqkxz6Tl6Z_g04-Q=s64",
      "userId": "09183028664422477504"
     },
     "user_tz": -330
    },
    "id": "rRPG1vd-5S-B",
    "outputId": "2d4879b4-587e-44d7-9073-210fbc2ff997"
   },
   "outputs": [
    {
     "name": "stdout",
     "output_type": "stream",
     "text": [
      "Found 6 files belonging to 2 directories\n"
     ]
    }
   ],
   "source": [
    "#5\n",
    "# Get the list of all noise files\n",
    "noise_paths = []\n",
    "for subdir in os.listdir(DATASET_NOISE_PATH):\n",
    "    subdir_path = Path(DATASET_NOISE_PATH) / subdir\n",
    "    if os.path.isdir(subdir_path):\n",
    "        noise_paths += [\n",
    "            os.path.join(subdir_path, filepath)\n",
    "            for filepath in os.listdir(subdir_path)\n",
    "            if filepath.endswith(\".wav\")\n",
    "        ]\n",
    "\n",
    "print(\"Found {} files belonging to {} directories\".format(len(noise_paths), len(os.listdir(DATASET_NOISE_PATH))))"
   ]
  },
  {
   "cell_type": "code",
   "execution_count": 10,
   "metadata": {},
   "outputs": [
    {
     "name": "stdout",
     "output_type": "stream",
     "text": [
      "6 noise files were split into 354 noise samples where each is 1 sec. long\n"
     ]
    }
   ],
   "source": [
    "#6\n",
    "#Resample all noise samples to 16000 Hz\n",
    "command = (\n",
    "    \"for dir in `ls -1 \" + DATASET_NOISE_PATH + \"`; do \"\n",
    "    \"for file in `ls -1 \" + DATASET_NOISE_PATH + \"/$dir/*.wav`; do \"\n",
    "    \"sample_rate=`ffprobe -hide_banner -loglevel panic -show_streams \"\n",
    "    \"$file | grep sample_rate | cut -f2 -d=`; \"\n",
    "    \"if [ $sample_rate -ne 16000 ]; then \"\n",
    "    \"ffmpeg -hide_banner -loglevel panic -y \"\n",
    "    \"-i $file -ar 16000 temp.wav; \"\n",
    "    \"mv temp.wav $file; \"\n",
    "    \"fi; done; done\"\n",
    ")\n",
    "os.system(command)\n",
    "\n",
    "# Split noise into chunks of 16,000 steps each\n",
    "def load_noise_sample(path):\n",
    "    sample, sampling_rate = tf.audio.decode_wav(  #DECODE\n",
    "        tf.io.read_file(path), desired_channels=1  #which reads wav file into tensor of type string\n",
    "    )\n",
    "    if sampling_rate == SAMPLING_RATE:\n",
    "        # Number of slices of 16000 each that can be generated from the noise sample\n",
    "        slices = int(sample.shape[0] / SAMPLING_RATE)\n",
    "        sample = tf.split(sample[: slices * SAMPLING_RATE], slices)\n",
    "        return sample\n",
    "    else:\n",
    "        print(\"Sampling rate for {} is incorrect. Ignoring it\".format(path))\n",
    "        return None\n",
    "\n",
    "\n",
    "noises = []\n",
    "for path in noise_paths:\n",
    "    sample = load_noise_sample(path)\n",
    "    if sample:\n",
    "        noises.extend(sample)\n",
    "noises = tf.stack(noises)\n",
    "\n",
    "print(\n",
    "    \"{} noise files were split into {} noise samples where each is {} sec. long\".format(\n",
    "        len(noise_paths), noises.shape[0], noises.shape[1] // SAMPLING_RATE\n",
    "    )\n",
    ")"
   ]
  },
  {
   "cell_type": "code",
   "execution_count": 11,
   "metadata": {},
   "outputs": [],
   "source": [
    "#https://www.tensorflow.org/guide/tensor\n",
    "#Tensors are multi-dimensional arrays with a uniform type (called a dtype).\n",
    "\n",
    "#Shape: The length (number of elements) of each of the axes of a tensor.\n",
    "#Rank: Number of tensor axes. A scalar has rank 0, a vector has rank 1, a matrix is rank 2.\n",
    "#Axis or Dimension: A particular dimension of a tensor.\n",
    "#Size: The total number of items in the tensor, the product shape vector."
   ]
  },
  {
   "cell_type": "code",
   "execution_count": 12,
   "metadata": {
    "colab": {
     "base_uri": "https://localhost:8080/"
    },
    "executionInfo": {
     "elapsed": 673,
     "status": "ok",
     "timestamp": 1621952470189,
     "user": {
      "displayName": "Yasasi Kulathunge",
      "photoUrl": "https://lh3.googleusercontent.com/a-/AOh14Gh1m9fAy39AOk16svCWmtjZOyIIqkxz6Tl6Z_g04-Q=s64",
      "userId": "09183028664422477504"
     },
     "user_tz": -330
    },
    "id": "m3uwpXVq5hBz",
    "outputId": "45f11b18-f237-4497-fe68-3c5861b41092"
   },
   "outputs": [
    {
     "name": "stdout",
     "output_type": "stream",
     "text": [
      "Our class names: ['Benjamin_Netanyau', 'Jens_Stoltenberg', 'Julia_Gillard', 'Magaret_Tarcher', 'Nelson_Mandela', 'yasasi']\n",
      "Processing speaker Benjamin_Netanyau\n",
      "Processing speaker Jens_Stoltenberg\n",
      "Processing speaker Julia_Gillard\n",
      "Processing speaker Magaret_Tarcher\n",
      "Processing speaker Nelson_Mandela\n",
      "Processing speaker yasasi\n",
      "Found 7802 files belonging to 6 classes.\n",
      "Using 7022 files for training.\n",
      "Using 780 files for validation.\n",
      "--------\n",
      "<MapDataset shapes: ((None, 16000, 1), (None,)), types: (tf.float32, tf.int32)>\n"
     ]
    }
   ],
   "source": [
    "#7\n",
    "def paths_and_labels_to_dataset(audio_paths, labels):\n",
    "    \"\"\"Constructs a dataset of audios and labels.\"\"\"\n",
    "    path_ds = tf.data.Dataset.from_tensor_slices(audio_paths)  #get the slices of an array in the form of objects\n",
    "    #MAP -applies a function on all the items of an iterator given as input.(can be a list,)\n",
    "    #lambda function can take any number of arguments, but can only have one expression.\n",
    "    audio_ds = path_ds.map(lambda x: path_to_audio(x))  \n",
    "    label_ds = tf.data.Dataset.from_tensor_slices(labels)  \n",
    "    #Dataset.zip transformation takes multiple datasets and iterates through them in parallel.\n",
    "    return tf.data.Dataset.zip((audio_ds, label_ds))  \n",
    "\n",
    "\n",
    "def path_to_audio(path):\n",
    "    \"\"\"Reads and decodes an audio file.\"\"\"\n",
    "    audio = tf.io.read_file(path) #Reads the contents of file.\n",
    "    audio, _ = tf.audio.decode_wav(audio, 1, SAMPLING_RATE) #??\n",
    "    return audio\n",
    "\n",
    "\n",
    "def add_noise(audio, noises=None, scale=0.5):\n",
    "    if noises is not None:\n",
    "        # Create a random tensor of the same size as audio ranging from\n",
    "        # 0 to the number of noise stream samples that we have.\n",
    "        \n",
    "        #The uniform distribution defines equal probability over a given range for a continuous distribution\n",
    "        #Outputs random values from a uniform distribution.\n",
    "        #dtype - The type of the output: int32\n",
    "        #shape - A 1-D integer Tensor or Python array ??\n",
    "        tf_rnd = tf.random.uniform(\n",
    "            (tf.shape(audio)[0],), 0, noises.shape[0], dtype=tf.int32\n",
    "        )\n",
    "        noise = tf.gather(noises, tf_rnd, axis=0) #Gather slices from params axis according to indices. \n",
    "\n",
    "        # Get the amplitude proportion between the audio and the noise\n",
    "        #Computes tf.math.maximum of elements across dimensions of a tensor.\n",
    "        prop = tf.math.reduce_max(audio, axis=1) / tf.math.reduce_max(noise, axis=1)\n",
    "        #Repeat elements of input. \n",
    "        #Returns a tensor with a length 1 axis inserted at index axis. #The new axis location matches Python (=1)\n",
    "        prop = tf.repeat(tf.expand_dims(prop, axis=1), tf.shape(audio)[1], axis=1)\n",
    "\n",
    "        # Adding the rescaled noise to audio\n",
    "        audio = audio + noise * prop * scale\n",
    "\n",
    "    return audio\n",
    "\n",
    "\n",
    "def audio_to_fft(audio):\n",
    "    # Since tf.signal.fft applies FFT on the innermost dimension,\n",
    "    # we need to squeeze the dimensions and then expand them again\n",
    "    # after FFT\n",
    "    audio = tf.squeeze(audio, axis=-1) #Removes dimensions of size 1 from the shape of a tensor.  (axis=-1) ??\n",
    "    #Fast Fourier transform.\n",
    "    fft = tf.signal.fft(\n",
    "        #Casts a tensor to a new type. tf.cast() for tensor type conversion\n",
    "        #tf.zeros_like -Creates a tensor with all elements set to zero.\n",
    "        tf.cast(tf.complex(real=audio, imag=tf.zeros_like(audio)), tf.complex64)\n",
    "    )\n",
    "    fft = tf.expand_dims(fft, axis=-1) #Returns a tensor with a length 1 axis inserted at index axis\n",
    "\n",
    "    # Return the absolute value of the first half of the FFT\n",
    "    # which represents the positive frequencies\n",
    "    #Computes the absolute value of a tensor.\n",
    "    return tf.math.abs(fft[:, : (audio.shape[1]), :]) #get the shape of audio \n",
    "\n",
    "\n",
    "# Get the list of audio file paths along with their corresponding labels\n",
    "\n",
    "class_names = os.listdir(DATASET_AUDIO_PATH)\n",
    "print(\"Our class names: {}\".format(class_names,)) # replacement fields and placeholders defined {} \n",
    "\n",
    "audio_paths = []\n",
    "labels = []\n",
    "for label, name in enumerate(class_names): #iterable and returns it according to list\n",
    "    print(\"Processing speaker {}\".format(name,))\n",
    "    dir_path = Path(DATASET_AUDIO_PATH) / name\n",
    "    speaker_sample_paths = [\n",
    "        os.path.join(dir_path, filepath)\n",
    "        for filepath in os.listdir(dir_path)\n",
    "        if filepath.endswith(\".wav\") #endswith() method returns True if the string ends with the specified value,else False.\n",
    "    ]\n",
    "    audio_paths += speaker_sample_paths\n",
    "    labels += [label] * len(speaker_sample_paths) #unction returns the number of items in an object.\n",
    "\n",
    "print(\n",
    "    \"Found {} files belonging to {} classes.\".format(len(audio_paths), len(class_names))\n",
    ")\n",
    "\n",
    "# Shuffle\n",
    "#RandomState exposes a number of methods for generating random numbers drawn from a variety of probability distributions.\n",
    "rng = np.random.RandomState(SHUFFLE_SEED) \n",
    "rng.shuffle(audio_paths)  #Shuffle a list \n",
    "rng = np.random.RandomState(SHUFFLE_SEED)\n",
    "rng.shuffle(labels)\n",
    "\n",
    "# Split into training and validation\n",
    "num_val_samples = int(VALID_SPLIT * len(audio_paths))\n",
    "print(\"Using {} files for training.\".format(len(audio_paths) - num_val_samples)) #training set \n",
    "train_audio_paths = audio_paths[:-num_val_samples] #??\n",
    "train_labels = labels[:-num_val_samples]\n",
    "\n",
    "print(\"Using {} files for validation.\".format(num_val_samples)) #Validation set\n",
    "valid_audio_paths = audio_paths[-num_val_samples:]\n",
    "valid_labels = labels[-num_val_samples:]\n",
    "\n",
    "# Create 2 datasets, one for training and the other for validation\n",
    "train_ds = paths_and_labels_to_dataset(train_audio_paths, train_labels)\n",
    "train_ds = train_ds.shuffle(buffer_size=BATCH_SIZE * 8, seed=SHUFFLE_SEED).batch(\n",
    "    BATCH_SIZE\n",
    ")\n",
    "\n",
    "valid_ds = paths_and_labels_to_dataset(valid_audio_paths, valid_labels)\n",
    "valid_ds = valid_ds.shuffle(buffer_size=32 * 8, seed=SHUFFLE_SEED).batch(32)\n",
    "\n",
    "\n",
    "# Add noise to the training set\n",
    "# train_ds = train_ds.map(\n",
    "#     lambda x, y: (add_noise(x, noises, scale=SCALE), y),\n",
    "#     num_parallel_calls=tf.data.experimental.AUTOTUNE,\n",
    "# )\n",
    "\n",
    "# Transform audio wave to the frequency domain using `audio_to_fft`\n",
    "# train_ds = train_ds.map(\n",
    "#     lambda x, y: (audio_to_fft(x), y), num_parallel_calls=tf.data.experimental.AUTOTUNE\n",
    "# )\n",
    "\n",
    " #prefetch -This allows later elements to be prepared while the current element is being processed\n",
    " #experimental -Public API for tf.experimental namespace.\n",
    "train_ds = train_ds.prefetch(tf.data.experimental.AUTOTUNE)#AUTOTUNE ??\n",
    "train_ds = train_ds.map(lambda x, y: (add_noise(x, noises, scale=SCALE), y))\n",
    "print(\"--------\")\n",
    "print(train_ds)\n",
    "\n",
    "# valid_ds = valid_ds.map(\n",
    "#     lambda x, y: (audio_to_fft(x), y), num_parallel_calls=tf.data.experimental.AUTOTUNE\n",
    "# )\n",
    "valid_ds = valid_ds.prefetch(tf.data.experimental.AUTOTUNE)\n",
    "valid_ds = valid_ds.map(lambda x, y: (add_noise(x, noises, scale=SCALE), y))"
   ]
  },
  {
   "cell_type": "code",
   "execution_count": 13,
   "metadata": {
    "colab": {
     "base_uri": "https://localhost:8080/"
    },
    "executionInfo": {
     "elapsed": 625,
     "status": "ok",
     "timestamp": 1621952496396,
     "user": {
      "displayName": "Yasasi Kulathunge",
      "photoUrl": "https://lh3.googleusercontent.com/a-/AOh14Gh1m9fAy39AOk16svCWmtjZOyIIqkxz6Tl6Z_g04-Q=s64",
      "userId": "09183028664422477504"
     },
     "user_tz": -330
    },
    "id": "ae_H2rXJ5sE8",
    "outputId": "b9bef230-95de-4614-c859-31e35ba07188"
   },
   "outputs": [
    {
     "name": "stdout",
     "output_type": "stream",
     "text": [
      "Model: \"functional_1\"\n",
      "__________________________________________________________________________________________________\n",
      "Layer (type)                    Output Shape         Param #     Connected to                     \n",
      "==================================================================================================\n",
      "input (InputLayer)              [(None, 16000, 1)]   0                                            \n",
      "__________________________________________________________________________________________________\n",
      "conv1d_1 (Conv1D)               (None, 16000, 16)    64          input[0][0]                      \n",
      "__________________________________________________________________________________________________\n",
      "activation (Activation)         (None, 16000, 16)    0           conv1d_1[0][0]                   \n",
      "__________________________________________________________________________________________________\n",
      "conv1d_2 (Conv1D)               (None, 16000, 16)    784         activation[0][0]                 \n",
      "__________________________________________________________________________________________________\n",
      "conv1d (Conv1D)                 (None, 16000, 16)    32          input[0][0]                      \n",
      "__________________________________________________________________________________________________\n",
      "add (Add)                       (None, 16000, 16)    0           conv1d_2[0][0]                   \n",
      "                                                                 conv1d[0][0]                     \n",
      "__________________________________________________________________________________________________\n",
      "activation_1 (Activation)       (None, 16000, 16)    0           add[0][0]                        \n",
      "__________________________________________________________________________________________________\n",
      "max_pooling1d (MaxPooling1D)    (None, 8000, 16)     0           activation_1[0][0]               \n",
      "__________________________________________________________________________________________________\n",
      "conv1d_4 (Conv1D)               (None, 8000, 32)     1568        max_pooling1d[0][0]              \n",
      "__________________________________________________________________________________________________\n",
      "activation_2 (Activation)       (None, 8000, 32)     0           conv1d_4[0][0]                   \n",
      "__________________________________________________________________________________________________\n",
      "conv1d_5 (Conv1D)               (None, 8000, 32)     3104        activation_2[0][0]               \n",
      "__________________________________________________________________________________________________\n",
      "conv1d_3 (Conv1D)               (None, 8000, 32)     544         max_pooling1d[0][0]              \n",
      "__________________________________________________________________________________________________\n",
      "add_1 (Add)                     (None, 8000, 32)     0           conv1d_5[0][0]                   \n",
      "                                                                 conv1d_3[0][0]                   \n",
      "__________________________________________________________________________________________________\n",
      "activation_3 (Activation)       (None, 8000, 32)     0           add_1[0][0]                      \n",
      "__________________________________________________________________________________________________\n",
      "max_pooling1d_1 (MaxPooling1D)  (None, 4000, 32)     0           activation_3[0][0]               \n",
      "__________________________________________________________________________________________________\n",
      "conv1d_7 (Conv1D)               (None, 4000, 64)     6208        max_pooling1d_1[0][0]            \n",
      "__________________________________________________________________________________________________\n",
      "activation_4 (Activation)       (None, 4000, 64)     0           conv1d_7[0][0]                   \n",
      "__________________________________________________________________________________________________\n",
      "conv1d_8 (Conv1D)               (None, 4000, 64)     12352       activation_4[0][0]               \n",
      "__________________________________________________________________________________________________\n",
      "activation_5 (Activation)       (None, 4000, 64)     0           conv1d_8[0][0]                   \n",
      "__________________________________________________________________________________________________\n",
      "conv1d_9 (Conv1D)               (None, 4000, 64)     12352       activation_5[0][0]               \n",
      "__________________________________________________________________________________________________\n",
      "conv1d_6 (Conv1D)               (None, 4000, 64)     2112        max_pooling1d_1[0][0]            \n",
      "__________________________________________________________________________________________________\n",
      "add_2 (Add)                     (None, 4000, 64)     0           conv1d_9[0][0]                   \n",
      "                                                                 conv1d_6[0][0]                   \n",
      "__________________________________________________________________________________________________\n",
      "activation_6 (Activation)       (None, 4000, 64)     0           add_2[0][0]                      \n",
      "__________________________________________________________________________________________________\n",
      "max_pooling1d_2 (MaxPooling1D)  (None, 2000, 64)     0           activation_6[0][0]               \n",
      "__________________________________________________________________________________________________\n",
      "conv1d_11 (Conv1D)              (None, 2000, 128)    24704       max_pooling1d_2[0][0]            \n",
      "__________________________________________________________________________________________________\n",
      "activation_7 (Activation)       (None, 2000, 128)    0           conv1d_11[0][0]                  \n",
      "__________________________________________________________________________________________________\n",
      "conv1d_12 (Conv1D)              (None, 2000, 128)    49280       activation_7[0][0]               \n",
      "__________________________________________________________________________________________________\n",
      "activation_8 (Activation)       (None, 2000, 128)    0           conv1d_12[0][0]                  \n",
      "__________________________________________________________________________________________________\n",
      "conv1d_13 (Conv1D)              (None, 2000, 128)    49280       activation_8[0][0]               \n",
      "__________________________________________________________________________________________________\n",
      "conv1d_10 (Conv1D)              (None, 2000, 128)    8320        max_pooling1d_2[0][0]            \n",
      "__________________________________________________________________________________________________\n",
      "add_3 (Add)                     (None, 2000, 128)    0           conv1d_13[0][0]                  \n",
      "                                                                 conv1d_10[0][0]                  \n",
      "__________________________________________________________________________________________________\n",
      "activation_9 (Activation)       (None, 2000, 128)    0           add_3[0][0]                      \n",
      "__________________________________________________________________________________________________\n",
      "max_pooling1d_3 (MaxPooling1D)  (None, 1000, 128)    0           activation_9[0][0]               \n",
      "__________________________________________________________________________________________________\n",
      "conv1d_15 (Conv1D)              (None, 1000, 128)    49280       max_pooling1d_3[0][0]            \n",
      "__________________________________________________________________________________________________\n",
      "activation_10 (Activation)      (None, 1000, 128)    0           conv1d_15[0][0]                  \n",
      "__________________________________________________________________________________________________\n",
      "conv1d_16 (Conv1D)              (None, 1000, 128)    49280       activation_10[0][0]              \n",
      "__________________________________________________________________________________________________\n",
      "activation_11 (Activation)      (None, 1000, 128)    0           conv1d_16[0][0]                  \n",
      "__________________________________________________________________________________________________\n",
      "conv1d_17 (Conv1D)              (None, 1000, 128)    49280       activation_11[0][0]              \n",
      "__________________________________________________________________________________________________\n",
      "conv1d_14 (Conv1D)              (None, 1000, 128)    16512       max_pooling1d_3[0][0]            \n",
      "__________________________________________________________________________________________________\n",
      "add_4 (Add)                     (None, 1000, 128)    0           conv1d_17[0][0]                  \n",
      "                                                                 conv1d_14[0][0]                  \n",
      "__________________________________________________________________________________________________\n",
      "activation_12 (Activation)      (None, 1000, 128)    0           add_4[0][0]                      \n",
      "__________________________________________________________________________________________________\n",
      "max_pooling1d_4 (MaxPooling1D)  (None, 500, 128)     0           activation_12[0][0]              \n",
      "__________________________________________________________________________________________________\n",
      "average_pooling1d (AveragePooli (None, 166, 128)     0           max_pooling1d_4[0][0]            \n",
      "__________________________________________________________________________________________________\n",
      "flatten (Flatten)               (None, 21248)        0           average_pooling1d[0][0]          \n",
      "__________________________________________________________________________________________________\n",
      "dense (Dense)                   (None, 256)          5439744     flatten[0][0]                    \n",
      "__________________________________________________________________________________________________\n",
      "dense_1 (Dense)                 (None, 128)          32896       dense[0][0]                      \n",
      "__________________________________________________________________________________________________\n",
      "output (Dense)                  (None, 6)            774         dense_1[0][0]                    \n",
      "==================================================================================================\n",
      "Total params: 5,808,470\n",
      "Trainable params: 5,808,470\n",
      "Non-trainable params: 0\n",
      "__________________________________________________________________________________________________\n"
     ]
    }
   ],
   "source": [
    "#1\n",
    "def residual_block(x, filters, conv_num=3, activation=\"relu\"):\n",
    "    # Shortcut\n",
    "    #\"same\" results in padding with zeros evenly to the left/right or up/down of the \n",
    "    #input such that output has the same height/width dimension as the input. \n",
    "    #conv1D: (batch_size,W,channels) \n",
    "    s = keras.layers.Conv1D(filters, 1, padding=\"same\")(x) #1D convolution layer #x ??\n",
    "    for i in range(conv_num - 1):\n",
    "        x = keras.layers.Conv1D(filters, 3, padding=\"same\")(x)\n",
    "        x = keras.layers.Activation(activation)(x)   #Applies an activation function to an output. (\"relu\".) \n",
    "    x = keras.layers.Conv1D(filters, 3, padding=\"same\")(x)\n",
    "    x = keras.layers.Add()([x, s])           #Layer that adds a list of inputs.\n",
    "    x = keras.layers.Activation(activation)(x)  \n",
    "    # strides -pooling window moves for each pooling step.\n",
    "    #pool_size -size of the max pooling window.\n",
    "    return keras.layers.MaxPool1D(pool_size=2, strides=2)(x) #Max pooling operation for 1D temporal data.\n",
    "\n",
    "def build_model(input_shape, num_classes):\n",
    "    inputs = keras.layers.Input(shape=input_shape, name=\"input\") #Layer to be used as an entry point into a Network\n",
    "\n",
    "    x = residual_block(inputs, 16, 2) #Residual Block from ResNet Architecture  #resblock(x, kernelsize, filters) \n",
    "    x = residual_block(x, 32, 2)  \n",
    "    x = residual_block(x, 64, 3)  #64 3*3\n",
    "    x = residual_block(x, 128, 3)\n",
    "    x = residual_block(x, 128, 3)\n",
    "\n",
    "    x = keras.layers.AveragePooling1D(pool_size=3, strides=3)(x) #Average pooling for temporal data.\n",
    "    x = keras.layers.Flatten()(x)  #Flattens the input. Does not affect the batch size.(batch_size, 2,2),output(batch_size, 4)\n",
    "    x = keras.layers.Dense(256, activation=\"relu\")(x) #output = activation(dot(input, kernel) + bias)\n",
    "    x = keras.layers.Dense(128, activation=\"relu\")(x) #128 - (units) - dimensionality of the output space.\n",
    "\n",
    "    outputs = keras.layers.Dense(num_classes, activation=\"softmax\", name=\"output\")(x)  #backward propagation\n",
    "\n",
    "    return keras.models.Model(inputs=inputs, outputs=outputs)  #Resets the state of all the metrics in the model.\n",
    "\n",
    "\n",
    "model = build_model((SAMPLING_RATE, 1), len(class_names))\n",
    "\n",
    "model.summary() #get a summary of my network's structure \n",
    "\n",
    "# Compile the model using Adam's default learning rate\n",
    "#The cache is cleared whenever Model.compile is called.\n",
    "#Compile defines the loss function, the optimizer and the metrics\n",
    "model.compile(     \n",
    "    optimizer=\"Adam\", loss=\"sparse_categorical_crossentropy\", metrics=[\"accuracy\"]\n",
    ")\n",
    "\n",
    "# Add callbacks:\n",
    "# 'EarlyStopping' to stop training when the model is not enhancing anymore\n",
    "# 'ModelCheckPoint' to always keep the model that has the best val_accuracy\n",
    "model_save_filename = \"model.h5\"\n",
    "\n",
    "#early stopping is a form of regularization used to avoid overfitting when training a learner with an iterative method, \n",
    "#such as gradient descent\n",
    "#Number of epochs with no improvement after which training will be stopped.\n",
    "\n",
    "earlystopping_cb = keras.callbacks.EarlyStopping(patience=10, restore_best_weights=True)\n",
    "\n",
    "#Callback to save the Keras model or model weights at some frequency.\n",
    "mdlcheckpoint_cb = keras.callbacks.ModelCheckpoint(\n",
    "    model_save_filename, monitor=\"val_accuracy\", save_best_only=True\n",
    ")"
   ]
  },
  {
   "cell_type": "code",
   "execution_count": 14,
   "metadata": {
    "colab": {
     "base_uri": "https://localhost:8080/"
    },
    "executionInfo": {
     "elapsed": 3139421,
     "status": "ok",
     "timestamp": 1621955655672,
     "user": {
      "displayName": "Yasasi Kulathunge",
      "photoUrl": "https://lh3.googleusercontent.com/a-/AOh14Gh1m9fAy39AOk16svCWmtjZOyIIqkxz6Tl6Z_g04-Q=s64",
      "userId": "09183028664422477504"
     },
     "user_tz": -330
    },
    "id": "UerCXN2u5z_k",
    "outputId": "1ec61220-4899-4629-f33d-2459b4b0131a",
    "scrolled": false
   },
   "outputs": [
    {
     "name": "stdout",
     "output_type": "stream",
     "text": [
      "Epoch 1/100\n",
      "55/55 [==============================] - 450s 8s/step - loss: 1.0739 - accuracy: 0.5221 - val_loss: 0.8194 - val_accuracy: 0.6090\n",
      "Epoch 2/100\n",
      "55/55 [==============================] - 396s 7s/step - loss: 0.5362 - accuracy: 0.7757 - val_loss: 0.4756 - val_accuracy: 0.8038\n",
      "Epoch 3/100\n",
      "55/55 [==============================] - 408s 7s/step - loss: 0.3789 - accuracy: 0.8453 - val_loss: 0.3595 - val_accuracy: 0.8359\n",
      "Epoch 4/100\n",
      "55/55 [==============================] - 421s 8s/step - loss: 0.3003 - accuracy: 0.8728 - val_loss: 0.3182 - val_accuracy: 0.8782\n",
      "Epoch 5/100\n",
      "55/55 [==============================] - 419s 8s/step - loss: 0.2928 - accuracy: 0.8817 - val_loss: 0.2924 - val_accuracy: 0.8795\n",
      "Epoch 6/100\n",
      "55/55 [==============================] - 454s 8s/step - loss: 0.2055 - accuracy: 0.9188 - val_loss: 0.3296 - val_accuracy: 0.8692\n",
      "Epoch 7/100\n",
      "55/55 [==============================] - 427s 8s/step - loss: 0.2140 - accuracy: 0.9120 - val_loss: 0.2524 - val_accuracy: 0.8974\n",
      "Epoch 8/100\n",
      "55/55 [==============================] - 406s 7s/step - loss: 0.1849 - accuracy: 0.9335 - val_loss: 0.2239 - val_accuracy: 0.9205\n",
      "Epoch 9/100\n",
      "55/55 [==============================] - 397s 7s/step - loss: 0.1436 - accuracy: 0.9455 - val_loss: 0.1883 - val_accuracy: 0.9372\n",
      "Epoch 10/100\n",
      "55/55 [==============================] - 394s 7s/step - loss: 0.1259 - accuracy: 0.9514 - val_loss: 0.1777 - val_accuracy: 0.9346\n",
      "Epoch 11/100\n",
      "55/55 [==============================] - 393s 7s/step - loss: 0.1142 - accuracy: 0.9540 - val_loss: 0.1678 - val_accuracy: 0.9359\n",
      "Epoch 12/100\n",
      "55/55 [==============================] - 392s 7s/step - loss: 0.1156 - accuracy: 0.9563 - val_loss: 0.1409 - val_accuracy: 0.9487\n",
      "Epoch 13/100\n",
      "55/55 [==============================] - 395s 7s/step - loss: 0.0898 - accuracy: 0.9637 - val_loss: 0.1266 - val_accuracy: 0.9513\n",
      "Epoch 14/100\n",
      "55/55 [==============================] - 396s 7s/step - loss: 0.0769 - accuracy: 0.9682 - val_loss: 0.1723 - val_accuracy: 0.9526\n",
      "Epoch 15/100\n",
      "55/55 [==============================] - 397s 7s/step - loss: 0.0742 - accuracy: 0.9690 - val_loss: 0.1290 - val_accuracy: 0.9513\n",
      "Epoch 16/100\n",
      "55/55 [==============================] - 396s 7s/step - loss: 0.0607 - accuracy: 0.9747 - val_loss: 0.1114 - val_accuracy: 0.9526\n",
      "Epoch 17/100\n",
      "55/55 [==============================] - 403s 7s/step - loss: 0.0826 - accuracy: 0.9678 - val_loss: 0.0977 - val_accuracy: 0.9551\n",
      "Epoch 18/100\n",
      "55/55 [==============================] - 403s 7s/step - loss: 0.0956 - accuracy: 0.9657 - val_loss: 0.1207 - val_accuracy: 0.9538\n",
      "Epoch 19/100\n",
      "55/55 [==============================] - 410s 7s/step - loss: 0.0525 - accuracy: 0.9812 - val_loss: 0.1440 - val_accuracy: 0.9551\n",
      "Epoch 20/100\n",
      "55/55 [==============================] - 418s 8s/step - loss: 0.0589 - accuracy: 0.9758 - val_loss: 0.1170 - val_accuracy: 0.9654\n",
      "Epoch 21/100\n",
      "55/55 [==============================] - 438s 8s/step - loss: 0.0660 - accuracy: 0.9774 - val_loss: 0.1095 - val_accuracy: 0.9564\n",
      "Epoch 22/100\n",
      "55/55 [==============================] - 421s 8s/step - loss: 0.0444 - accuracy: 0.9832 - val_loss: 0.1181 - val_accuracy: 0.9654\n",
      "Epoch 23/100\n",
      "55/55 [==============================] - 419s 8s/step - loss: 0.0362 - accuracy: 0.9879 - val_loss: 0.1466 - val_accuracy: 0.9564\n",
      "Epoch 24/100\n",
      "55/55 [==============================] - 410s 7s/step - loss: 0.0468 - accuracy: 0.9842 - val_loss: 0.1026 - val_accuracy: 0.9667\n",
      "Epoch 25/100\n",
      "55/55 [==============================] - 398s 7s/step - loss: 0.0596 - accuracy: 0.9815 - val_loss: 0.1905 - val_accuracy: 0.9359\n",
      "Epoch 26/100\n",
      "55/55 [==============================] - 432s 8s/step - loss: 0.0456 - accuracy: 0.9831 - val_loss: 0.1496 - val_accuracy: 0.9462\n",
      "Epoch 27/100\n",
      "55/55 [==============================] - 432s 8s/step - loss: 0.0322 - accuracy: 0.9892 - val_loss: 0.0612 - val_accuracy: 0.9731\n",
      "Epoch 28/100\n",
      "55/55 [==============================] - 396s 7s/step - loss: 0.0325 - accuracy: 0.9886 - val_loss: 0.0798 - val_accuracy: 0.9667\n",
      "Epoch 29/100\n",
      "55/55 [==============================] - 397s 7s/step - loss: 0.0907 - accuracy: 0.9694 - val_loss: 0.1019 - val_accuracy: 0.9603\n",
      "Epoch 30/100\n",
      "55/55 [==============================] - 406s 7s/step - loss: 0.0268 - accuracy: 0.9922 - val_loss: 0.0973 - val_accuracy: 0.9692\n",
      "Epoch 31/100\n",
      "55/55 [==============================] - 406s 7s/step - loss: 0.0174 - accuracy: 0.9942 - val_loss: 0.1010 - val_accuracy: 0.9654\n",
      "Epoch 32/100\n",
      "55/55 [==============================] - 412s 7s/step - loss: 0.0185 - accuracy: 0.9937 - val_loss: 0.1299 - val_accuracy: 0.9615\n",
      "Epoch 33/100\n",
      "55/55 [==============================] - 417s 8s/step - loss: 0.0275 - accuracy: 0.9909 - val_loss: 0.2235 - val_accuracy: 0.9385\n",
      "Epoch 34/100\n",
      "55/55 [==============================] - 412s 7s/step - loss: 0.0229 - accuracy: 0.9932 - val_loss: 0.0836 - val_accuracy: 0.9744\n",
      "Epoch 35/100\n",
      "55/55 [==============================] - 415s 8s/step - loss: 0.0125 - accuracy: 0.9960 - val_loss: 0.1273 - val_accuracy: 0.9667\n",
      "Epoch 36/100\n",
      "55/55 [==============================] - 400s 7s/step - loss: 0.0077 - accuracy: 0.9977 - val_loss: 0.0893 - val_accuracy: 0.9705\n",
      "Epoch 37/100\n",
      "55/55 [==============================] - 395s 7s/step - loss: 0.0221 - accuracy: 0.9922 - val_loss: 0.2513 - val_accuracy: 0.9346\n"
     ]
    }
   ],
   "source": [
    "#1\n",
    "#measure of how well a machine learning model generalizes to similar data to that on which it was trained.\n",
    "history = model.fit(  # train the model with model.fit()\n",
    "    train_ds,\n",
    "    epochs=EPOCHS,\n",
    "    validation_data=valid_ds,\n",
    "    callbacks=[earlystopping_cb, mdlcheckpoint_cb],\n",
    ")"
   ]
  },
  {
   "cell_type": "code",
   "execution_count": 15,
   "metadata": {
    "colab": {
     "base_uri": "https://localhost:8080/"
    },
    "executionInfo": {
     "elapsed": 10285,
     "status": "ok",
     "timestamp": 1621955868834,
     "user": {
      "displayName": "Yasasi Kulathunge",
      "photoUrl": "https://lh3.googleusercontent.com/a-/AOh14Gh1m9fAy39AOk16svCWmtjZOyIIqkxz6Tl6Z_g04-Q=s64",
      "userId": "09183028664422477504"
     },
     "user_tz": -330
    },
    "id": "ndLStdpSGjEe",
    "outputId": "3be0821d-4389-4c43-9c08-2faf17d90b16"
   },
   "outputs": [
    {
     "name": "stdout",
     "output_type": "stream",
     "text": [
      "25/25 [==============================] - 11s 455ms/step - loss: 0.0642 - accuracy: 0.9718\n",
      "[0.06419152766466141, 0.971794843673706]\n"
     ]
    }
   ],
   "source": [
    "#1\n",
    "#Returns the loss value & metrics values for the model in test mode.\n",
    "print(model.evaluate(valid_ds))"
   ]
  },
  {
   "cell_type": "code",
   "execution_count": 16,
   "metadata": {
    "colab": {
     "base_uri": "https://localhost:8080/"
    },
    "executionInfo": {
     "elapsed": 790,
     "status": "ok",
     "timestamp": 1621955880607,
     "user": {
      "displayName": "Yasasi Kulathunge",
      "photoUrl": "https://lh3.googleusercontent.com/a-/AOh14Gh1m9fAy39AOk16svCWmtjZOyIIqkxz6Tl6Z_g04-Q=s64",
      "userId": "09183028664422477504"
     },
     "user_tz": -330
    },
    "id": "3tlanSqIGoPk",
    "outputId": "9177e84a-8772-4315-f86f-df485e9925b7"
   },
   "outputs": [
    {
     "name": "stdout",
     "output_type": "stream",
     "text": [
      "<MapDataset shapes: ((None, 16000, 1), (None,)), types: (tf.float32, tf.int32)>\n"
     ]
    }
   ],
   "source": [
    "print(valid_ds)"
   ]
  },
  {
   "cell_type": "code",
   "execution_count": 17,
   "metadata": {
    "colab": {
     "base_uri": "https://localhost:8080/"
    },
    "executionInfo": {
     "elapsed": 91868,
     "status": "ok",
     "timestamp": 1621956001004,
     "user": {
      "displayName": "Yasasi Kulathunge",
      "photoUrl": "https://lh3.googleusercontent.com/a-/AOh14Gh1m9fAy39AOk16svCWmtjZOyIIqkxz6Tl6Z_g04-Q=s64",
      "userId": "09183028664422477504"
     },
     "user_tz": -330
    },
    "id": "pyJ3eFV1Gq77",
    "outputId": "2149c826-543f-478f-e581-938e1f324a9d"
   },
   "outputs": [
    {
     "name": "stdout",
     "output_type": "stream",
     "text": [
      "<MapDataset shapes: ((None, 16000, 1), (None,)), types: (tf.float32, tf.int32)>\n",
      "<MapDataset shapes: ((None, 16000, 1), (None,)), types: (tf.float32, tf.int32)>\n",
      "Speaker:\u001b[92m Julia_Gillard\u001b[0m\tPredicted:\u001b[92m Julia_Gillard\u001b[0m\n",
      "7/7 [==============================] - 9s 1s/step - loss: 0.0725 - accuracy: 0.9718\n",
      "2\n",
      "Welcome\n",
      "Speaker:\u001b[92m yasasi\u001b[0m\tPredicted:\u001b[92m yasasi\u001b[0m\n",
      "7/7 [==============================] - 9s 1s/step - loss: 0.0763 - accuracy: 0.9744\n",
      "5\n",
      "Welcome\n",
      "Speaker:\u001b[92m Jens_Stoltenberg\u001b[0m\tPredicted:\u001b[92m Jens_Stoltenberg\u001b[0m\n",
      "7/7 [==============================] - 9s 1s/step - loss: 0.0673 - accuracy: 0.9744\n",
      "1\n",
      "Welcome\n",
      "Speaker:\u001b[91m Magaret_Tarcher\u001b[0m\tPredicted:\u001b[91m Benjamin_Netanyau\u001b[0m\n",
      "Sorry\n",
      "Speaker:\u001b[92m Benjamin_Netanyau\u001b[0m\tPredicted:\u001b[92m Benjamin_Netanyau\u001b[0m\n",
      "7/7 [==============================] - 10s 1s/step - loss: 0.0852 - accuracy: 0.9705\n",
      "0\n",
      "Welcome\n",
      "Speaker:\u001b[92m Benjamin_Netanyau\u001b[0m\tPredicted:\u001b[92m Benjamin_Netanyau\u001b[0m\n",
      "7/7 [==============================] - 10s 1s/step - loss: 0.0737 - accuracy: 0.9756\n",
      "0\n",
      "Welcome\n",
      "Speaker:\u001b[91m yasasi\u001b[0m\tPredicted:\u001b[91m Jens_Stoltenberg\u001b[0m\n",
      "Sorry\n",
      "Speaker:\u001b[92m Julia_Gillard\u001b[0m\tPredicted:\u001b[92m Julia_Gillard\u001b[0m\n",
      "7/7 [==============================] - 10s 1s/step - loss: 0.0628 - accuracy: 0.9744\n",
      "2\n",
      "Welcome\n",
      "Speaker:\u001b[92m Magaret_Tarcher\u001b[0m\tPredicted:\u001b[92m Magaret_Tarcher\u001b[0m\n",
      "7/7 [==============================] - 10s 1s/step - loss: 0.0637 - accuracy: 0.9769\n",
      "3\n",
      "Welcome\n",
      "Speaker:\u001b[92m Jens_Stoltenberg\u001b[0m\tPredicted:\u001b[92m Jens_Stoltenberg\u001b[0m\n",
      "7/7 [==============================] - 10s 1s/step - loss: 0.0804 - accuracy: 0.9705\n",
      "1\n",
      "Welcome\n"
     ]
    }
   ],
   "source": [
    "#1\n",
    "SAMPLES_TO_DISPLAY = 10\n",
    "\n",
    "test_ds = paths_and_labels_to_dataset(valid_audio_paths, valid_labels)\n",
    "test_ds = test_ds.shuffle(buffer_size=BATCH_SIZE * 8, seed=SHUFFLE_SEED).batch( #Randomly shuffles the elements of this dataset.\n",
    "\n",
    "    BATCH_SIZE\n",
    ")\n",
    "\n",
    "#MAP -applies a function on all the items of an iterator given as input.(can be a list,)\n",
    "#lambda function can take any number of arguments, but can only have one expression.\n",
    "test_ds = test_ds.map(lambda x, y: (add_noise(x, noises, scale=SCALE), y))\n",
    "\n",
    "print(test_ds)\n",
    "print(valid_ds)\n",
    "\n",
    "for audios, labels in test_ds.take(1):  #function returns elements from array along the mentioned axis and indices.\n",
    "    # Get the signal FFT\n",
    "    ffts = audio_to_fft(audios)\n",
    "    # Predict\n",
    "    y_pred = model.predict(audios)\n",
    "    # Take random samples\n",
    "    rnd = np.random.randint(0, BATCH_SIZE, SAMPLES_TO_DISPLAY) #returns an integer number selected element from the specified range\n",
    "    #numpy() method is pretty much straightforward. It converts a tensor object into an numpy.ndarray object\n",
    "    audios = audios.numpy()[rnd, :, :]  \n",
    "    labels = labels.numpy()[rnd]\n",
    "    y_pred = np.argmax(y_pred, axis=-1)[rnd]  #function returns indices of the max element of the array in a particular axis.\n",
    "\n",
    "    for index in range(SAMPLES_TO_DISPLAY):\n",
    "        # For every sample, print the true and predicted label\n",
    "        # as well as run the voice with the noise\n",
    "        # print(model.evaluate(test_ds)[1])\n",
    "        print(\n",
    "            \"Speaker:\\33{} {}\\33[0m\\tPredicted:\\33{} {}\\33[0m\".format(\n",
    "                \"[92m\" if labels[index] == y_pred[index] else \"[91m\",\n",
    "                class_names[labels[index]],\n",
    "                \"[92m\" if labels[index] == y_pred[index] else \"[91m\",\n",
    "                class_names[y_pred[index]],\n",
    "            )\n",
    "        )\n",
    "        if labels[index] ==y_pred[index] and model.evaluate(test_ds)[1] > 0.90:\n",
    "            # print(model.evaluate(test_ds)[1])\n",
    "            print(y_pred[index])\n",
    "            print(\"Welcome\")\n",
    "        else:\n",
    "            print(\"Sorry\")\n",
    "        # print(\"The speaker is\" if labels[index] == y_pred[index] else \"\", class_names[y_pred[index]])"
   ]
  },
  {
   "cell_type": "code",
   "execution_count": 18,
   "metadata": {
    "executionInfo": {
     "elapsed": 1288,
     "status": "ok",
     "timestamp": 1621956109802,
     "user": {
      "displayName": "Yasasi Kulathunge",
      "photoUrl": "https://lh3.googleusercontent.com/a-/AOh14Gh1m9fAy39AOk16svCWmtjZOyIIqkxz6Tl6Z_g04-Q=s64",
      "userId": "09183028664422477504"
     },
     "user_tz": -330
    },
    "id": "d8HMrHPkHPXB"
   },
   "outputs": [],
   "source": [
    "#1\n",
    "model.save('sample.h5')  #ave a model's architecture, weights, and training configuration in a single file/folder"
   ]
  },
  {
   "cell_type": "code",
   "execution_count": 19,
   "metadata": {
    "colab": {
     "base_uri": "https://localhost:8080/"
    },
    "executionInfo": {
     "elapsed": 1442,
     "status": "ok",
     "timestamp": 1621956139520,
     "user": {
      "displayName": "Yasasi Kulathunge",
      "photoUrl": "https://lh3.googleusercontent.com/a-/AOh14Gh1m9fAy39AOk16svCWmtjZOyIIqkxz6Tl6Z_g04-Q=s64",
      "userId": "09183028664422477504"
     },
     "user_tz": -330
    },
    "id": "2mRsSwi3HmFU",
    "outputId": "c8cf74e3-9a48-44fe-fa6e-8ef0b062e056"
   },
   "outputs": [
    {
     "data": {
      "text/plain": [
       "[(None, 16000, 1)]"
      ]
     },
     "execution_count": 19,
     "metadata": {},
     "output_type": "execute_result"
    }
   ],
   "source": [
    "#1\n",
    "model = tf.keras.models.load_model('sample.h5')  #Loads a model saved via model.save().\n",
    "model.layers[0].input_shape  # access the layers of the model  #input_shape ??"
   ]
  },
  {
   "cell_type": "code",
   "execution_count": 20,
   "metadata": {
    "colab": {
     "base_uri": "https://localhost:8080/"
    },
    "executionInfo": {
     "elapsed": 25561,
     "status": "ok",
     "timestamp": 1621956196237,
     "user": {
      "displayName": "Yasasi Kulathunge",
      "photoUrl": "https://lh3.googleusercontent.com/a-/AOh14Gh1m9fAy39AOk16svCWmtjZOyIIqkxz6Tl6Z_g04-Q=s64",
      "userId": "09183028664422477504"
     },
     "user_tz": -330
    },
    "id": "bzt9fEkYHqM9",
    "outputId": "eac24fdf-ae2e-472d-b089-8c6f75160e04"
   },
   "outputs": [
    {
     "name": "stdout",
     "output_type": "stream",
     "text": [
      "<MapDataset shapes: ((None, 16000, 1), (None,)), types: (tf.float32, tf.int32)>\n",
      "<MapDataset shapes: ((None, 16000, 1), (None,)), types: (tf.float32, tf.int32)>\n",
      "Speaker:\u001b[92m Jens_Stoltenberg\u001b[0m\tPredicted:\u001b[92m Jens_Stoltenberg\u001b[0m\n",
      "7/7 [==============================] - 9s 1s/step - loss: 0.0833 - accuracy: 0.2051\n",
      "Sorry\n"
     ]
    }
   ],
   "source": [
    "#1\n",
    "test_ds = paths_and_labels_to_dataset(valid_audio_paths, valid_labels)\n",
    "test_ds = test_ds.shuffle(buffer_size=BATCH_SIZE * 8, seed=SHUFFLE_SEED).batch(\n",
    "    BATCH_SIZE\n",
    ")\n",
    "\n",
    "#MAP -applies a function on all the items of an iterator given as input.(can be a list,)\n",
    "#lambda function can take any number of arguments, but can only have one expression.\n",
    "test_ds = test_ds.map(lambda x, y: (add_noise(x, noises, scale=SCALE), y))\n",
    "\n",
    "print(test_ds)\n",
    "print(valid_ds)\n",
    "\n",
    "for audios, labels in test_ds.take(1):\n",
    "    # Get the signal FFT\n",
    "    ffts = audio_to_fft(audios)\n",
    "    # Predict\n",
    "    y_pred = model.predict(audios)\n",
    "    # Take random samples\n",
    "    rnd = np.random.randint(0, BATCH_SIZE, 1)\n",
    "     #numpy() method is pretty much straightforward. It converts a tensor object into an numpy.ndarray object\n",
    "    audios = audios.numpy()[rnd, :, :]\n",
    "    labels = labels.numpy()[rnd]\n",
    "    y_pred = np.argmax(y_pred, axis=-1)[rnd] #function returns indices of the max element of the array in a particular axis.\n",
    "\n",
    "    for index in range(1):\n",
    "        # For every sample, print the true and predicted label\n",
    "        # as well as run the voice with the noise\n",
    "        # print(model.evaluate(test_ds)[1])\n",
    "        print(\n",
    "            \"Speaker:\\33{} {}\\33[0m\\tPredicted:\\33{} {}\\33[0m\".format(\n",
    "                \"[92m\" if labels[index] == y_pred[index] else \"[91m\",\n",
    "                class_names[labels[index]],\n",
    "                \"[92m\" if labels[index] == y_pred[index] else \"[91m\",\n",
    "                class_names[y_pred[index]],\n",
    "            )\n",
    "        )\n",
    "        if labels[index] ==y_pred[index] and model.evaluate(test_ds)[1] > 0.90:\n",
    "            print(model.evaluate(test_ds)[1]) ##Returns the loss value & metrics values for the model in test mode.\n",
    "            print(\"Welcome\")\n",
    "        else:\n",
    "            print(\"Sorry\")\n",
    "        # print(\"The speaker is\" if labels[index] == y_pred[index] else \"\", class_names[y_pred[index]])"
   ]
  },
  {
   "cell_type": "code",
   "execution_count": 21,
   "metadata": {
    "colab": {
     "base_uri": "https://localhost:8080/"
    },
    "executionInfo": {
     "elapsed": 9991,
     "status": "ok",
     "timestamp": 1621956343989,
     "user": {
      "displayName": "Yasasi Kulathunge",
      "photoUrl": "https://lh3.googleusercontent.com/a-/AOh14Gh1m9fAy39AOk16svCWmtjZOyIIqkxz6Tl6Z_g04-Q=s64",
      "userId": "09183028664422477504"
     },
     "user_tz": -330
    },
    "id": "95QQX-XaIA_w",
    "outputId": "f60aaebf-4ca9-4cca-c242-d40563147b8f"
   },
   "outputs": [
    {
     "name": "stdout",
     "output_type": "stream",
     "text": [
      "['C:\\\\Users\\\\Yasasi\\\\SR-Test2\\\\audio\\\\audio\\\\yasasi\\\\20.wav']\n",
      "<MapDataset shapes: ((None, 16000, 1), (None,)), types: (tf.float32, tf.string)>\n",
      "<MapDataset shapes: ((None, 16000, 1), (None,)), types: (tf.float32, tf.int32)>\n",
      "Speaker:\u001b[92m 5\u001b[0m\tPredicted:\u001b[92m 5\u001b[0m\n",
      "25/25 [==============================] - 11s 437ms/step - loss: 0.0708 - accuracy: 0.2090\n",
      "0.20897436141967773\n",
      "Sorry\n",
      "yasasi\n"
     ]
    }
   ],
   "source": [
    "#1\n",
    "path = [r\"C:\\Users\\Yasasi\\SR-Test2\\audio\\audio\\yasasi\\20.wav\"]\n",
    "print(path)\n",
    "labels = [\"unknown\"]\n",
    "\n",
    "# path_ds = tf.data.Dataset.from_tensor_slices(audio_paths)\n",
    "# audio_ds = path_ds.map(lambda x: path_to_audio(x))\n",
    "# label_ds = tf.data.Dataset.from_tensor_slices(labels)\n",
    "# return tf.data.Dataset.zip((audio_ds, label_ds))\n",
    "\n",
    "test_ds = paths_and_labels_to_dataset(path, labels)\n",
    "\n",
    "test_ds = test_ds.shuffle(buffer_size=BATCH_SIZE * 8, seed=SHUFFLE_SEED).batch(\n",
    "\tBATCH_SIZE\n",
    "\t)\n",
    "\n",
    "test_ds = test_ds.map(lambda x, y: (add_noise(x, noises, scale=SCALE), y))\n",
    "\n",
    "print(test_ds)\n",
    "print(valid_ds)\n",
    "\n",
    "for audios, labels in test_ds.take(1):\n",
    "\t# Get the signal FFT\n",
    "\ty_pred = model.predict(audios)\n",
    "\t# Take random samples\n",
    "\trnd = np.random.randint(0, 1, 1)\n",
    "\taudios = audios.numpy()[rnd, :]\n",
    "\tlabels = labels.numpy()[rnd]\n",
    "\ty_pred = np.argmax(y_pred, axis=-1)[rnd]\n",
    "\n",
    "\tfor index in range(1):\n",
    "\t\t\t# For every sample, print the true and predicted label\n",
    "\t\t\t# as well as run the voice with the noise\n",
    "\t\t\tprint(\n",
    "\t\t\t\t\"Speaker:\\33{} {}\\33[0m\\tPredicted:\\33{} {}\\33[0m\".format(\n",
    "\t\t\t\t\t\"[92m\",y_pred[index],\n",
    "\t\t\t\t\t\"[92m\", y_pred[index]\n",
    "\t\t\t\t)\n",
    "\t\t\t)\n",
    "\t\t\ta = model.evaluate(valid_ds)#Returns the loss value & metrics values for the model in test mode\n",
    "\t\t\tprint(a[1])\n",
    "\t\t\tif class_names[y_pred[index]] == \"avish\":\n",
    "\t\t\t\tprint(model.evaluate(test_ds)[1])\n",
    "\t\t\t\t# print(model.evaluate(valid_ds,verbose=0)[1])\n",
    "\t\t\t\tprint(\"Welcome\")\n",
    "\t\t\telse:\n",
    "\t\t\t\tprint(\"Sorry\")\n",
    "\t\t\tprint(class_names[y_pred[index]])\n",
    "\t\t\t# display(Audio(audios[index, :, :].squeeze(), rate=SAMPLING_RATE))"
   ]
  },
  {
   "cell_type": "code",
   "execution_count": 22,
   "metadata": {},
   "outputs": [
    {
     "name": "stdout",
     "output_type": "stream",
     "text": [
      "['C:\\\\Users\\\\Yasasi\\\\SR-Test2\\\\audio\\\\audio\\\\yasasi\\\\120.wav']\n",
      "<MapDataset shapes: ((None, 16000, 1), (None,)), types: (tf.float32, tf.string)>\n",
      "<MapDataset shapes: ((None, 16000, 1), (None,)), types: (tf.float32, tf.int32)>\n",
      "Speaker:\u001b[92m 5\u001b[0m\tPredicted:\u001b[92m 5\u001b[0m\n",
      "25/25 [==============================] - 11s 440ms/step - loss: 0.0827 - accuracy: 0.2077\n",
      "0.20769231021404266\n",
      "Sorry\n",
      "yasasi\n"
     ]
    }
   ],
   "source": [
    "#1\n",
    "path = [r\"C:\\Users\\Yasasi\\SR-Test2\\audio\\audio\\yasasi\\120.wav\"]\n",
    "print(path)\n",
    "labels = [\"unknown\"]\n",
    "\n",
    "# path_ds = tf.data.Dataset.from_tensor_slices(audio_paths)\n",
    "# audio_ds = path_ds.map(lambda x: path_to_audio(x))\n",
    "# label_ds = tf.data.Dataset.from_tensor_slices(labels)\n",
    "# return tf.data.Dataset.zip((audio_ds, label_ds))\n",
    "\n",
    "test_ds = paths_and_labels_to_dataset(path, labels)\n",
    "\n",
    "test_ds = test_ds.shuffle(buffer_size=BATCH_SIZE * 8, seed=SHUFFLE_SEED).batch(\n",
    "\tBATCH_SIZE\n",
    "\t)\n",
    "\n",
    "test_ds = test_ds.map(lambda x, y: (add_noise(x, noises, scale=SCALE), y))\n",
    "\n",
    "print(test_ds)\n",
    "print(valid_ds)\n",
    "\n",
    "for audios, labels in test_ds.take(1):\n",
    "\t# Get the signal FFT\n",
    "\ty_pred = model.predict(audios)\n",
    "\t# Take random samples\n",
    "\trnd = np.random.randint(0, 1, 1)\n",
    "\taudios = audios.numpy()[rnd, :]\n",
    "\tlabels = labels.numpy()[rnd]\n",
    "\ty_pred = np.argmax(y_pred, axis=-1)[rnd]\n",
    "\n",
    "\tfor index in range(1):\n",
    "\t\t\t# For every sample, print the true and predicted label\n",
    "\t\t\t# as well as run the voice with the noise\n",
    "\t\t\tprint(\n",
    "\t\t\t\t\"Speaker:\\33{} {}\\33[0m\\tPredicted:\\33{} {}\\33[0m\".format(\n",
    "\t\t\t\t\t\"[92m\",y_pred[index],\n",
    "\t\t\t\t\t\"[92m\", y_pred[index]\n",
    "\t\t\t\t)\n",
    "\t\t\t)\n",
    "\t\t\ta = model.evaluate(valid_ds)#Returns the loss value & metrics values for the model in test mode\n",
    "\t\t\tprint(a[1])\n",
    "\t\t\tif class_names[y_pred[index]] == \"Magaret_Tarcher\":\n",
    "\t\t\t\tprint(model.evaluate(test_ds)[1])\n",
    "\t\t\t\t# print(model.evaluate(valid_ds,verbose=0)[1])\n",
    "\t\t\t\tprint(\"Welcome\")\n",
    "\t\t\telse:\n",
    "\t\t\t\tprint(\"Sorry\")\n",
    "\t\t\tprint(class_names[y_pred[index]])\n",
    "\t\t\t# display(Audio(audios[index, :, :].squeeze(), rate=SAMPLING_RATE))"
   ]
  },
  {
   "cell_type": "code",
   "execution_count": 23,
   "metadata": {},
   "outputs": [
    {
     "name": "stdout",
     "output_type": "stream",
     "text": [
      "['C:\\\\Users\\\\Yasasi\\\\SR-Test2\\\\audio\\\\audio\\\\yasasi\\\\30.wav']\n",
      "<MapDataset shapes: ((None, 16000, 1), (None,)), types: (tf.float32, tf.string)>\n",
      "<MapDataset shapes: ((None, 16000, 1), (None,)), types: (tf.float32, tf.int32)>\n",
      "Speaker:\u001b[92m 5\u001b[0m\tPredicted:\u001b[92m 5\u001b[0m\n",
      "25/25 [==============================] - 11s 441ms/step - loss: 0.0745 - accuracy: 0.2077\n",
      "0.20769231021404266\n",
      "Sorry\n",
      "yasasi\n"
     ]
    }
   ],
   "source": [
    "#1\n",
    "path = [r\"C:\\Users\\Yasasi\\SR-Test2\\audio\\audio\\yasasi\\30.wav\"]\n",
    "print(path)\n",
    "labels = [\"unknown\"]\n",
    "\n",
    "# path_ds = tf.data.Dataset.from_tensor_slices(audio_paths)\n",
    "# audio_ds = path_ds.map(lambda x: path_to_audio(x))\n",
    "# label_ds = tf.data.Dataset.from_tensor_slices(labels)\n",
    "# return tf.data.Dataset.zip((audio_ds, label_ds))\n",
    "\n",
    "test_ds = paths_and_labels_to_dataset(path, labels)\n",
    "\n",
    "test_ds = test_ds.shuffle(buffer_size=BATCH_SIZE * 8, seed=SHUFFLE_SEED).batch(\n",
    "\tBATCH_SIZE\n",
    "\t)\n",
    "\n",
    "test_ds = test_ds.map(lambda x, y: (add_noise(x, noises, scale=SCALE), y))\n",
    "\n",
    "print(test_ds)\n",
    "print(valid_ds)\n",
    "\n",
    "for audios, labels in test_ds.take(1):\n",
    "\t# Get the signal FFT\n",
    "\ty_pred = model.predict(audios)\n",
    "\t# Take random samples\n",
    "\trnd = np.random.randint(0, 1, 1)\n",
    "\taudios = audios.numpy()[rnd, :]\n",
    "\tlabels = labels.numpy()[rnd]\n",
    "\ty_pred = np.argmax(y_pred, axis=-1)[rnd]\n",
    "\n",
    "\tfor index in range(1):\n",
    "\t\t\t# For every sample, print the true and predicted label\n",
    "\t\t\t# as well as run the voice with the noise\n",
    "\t\t\tprint(\n",
    "\t\t\t\t\"Speaker:\\33{} {}\\33[0m\\tPredicted:\\33{} {}\\33[0m\".format(\n",
    "\t\t\t\t\t\"[92m\",y_pred[index],\n",
    "\t\t\t\t\t\"[92m\", y_pred[index]\n",
    "\t\t\t\t)\n",
    "\t\t\t)\n",
    "\t\t\ta = model.evaluate(valid_ds)#Returns the loss value & metrics values for the model in test mode\n",
    "\t\t\tprint(a[1])\n",
    "\t\t\tif class_names[y_pred[index]] == \"Nelson_Mandela\":\n",
    "\t\t\t\tprint(model.evaluate(test_ds)[1])\n",
    "\t\t\t\t# print(model.evaluate(valid_ds,verbose=0)[1])\n",
    "\t\t\t\tprint(\"Welcome\")\n",
    "\t\t\telse:\n",
    "\t\t\t\tprint(\"Sorry\")\n",
    "\t\t\tprint(class_names[y_pred[index]])\n",
    "\t\t\t# display(Audio(audios[index, :, :].squeeze(), rate=SAMPLING_RATE))"
   ]
  },
  {
   "cell_type": "code",
   "execution_count": 24,
   "metadata": {},
   "outputs": [
    {
     "name": "stdout",
     "output_type": "stream",
     "text": [
      "['C:\\\\Users\\\\Yasasi\\\\SR-Test2\\\\audio\\\\audio\\\\yasasi\\\\10.wav']\n",
      "<MapDataset shapes: ((None, 16000, 1), (None,)), types: (tf.float32, tf.string)>\n",
      "<MapDataset shapes: ((None, 16000, 1), (None,)), types: (tf.float32, tf.int32)>\n",
      "Speaker:\u001b[92m 5\u001b[0m\tPredicted:\u001b[92m 5\u001b[0m\n",
      "25/25 [==============================] - 11s 425ms/step - loss: 0.0716 - accuracy: 0.2038\n",
      "0.20384615659713745\n",
      "Sorry\n",
      "yasasi\n"
     ]
    }
   ],
   "source": [
    "#1\n",
    "path = [r\"C:\\Users\\Yasasi\\SR-Test2\\audio\\audio\\yasasi\\10.wav\"]\n",
    "print(path)\n",
    "labels = [\"unknown\"]\n",
    "\n",
    "# path_ds = tf.data.Dataset.from_tensor_slices(audio_paths)\n",
    "# audio_ds = path_ds.map(lambda x: path_to_audio(x))\n",
    "# label_ds = tf.data.Dataset.from_tensor_slices(labels)\n",
    "# return tf.data.Dataset.zip((audio_ds, label_ds))\n",
    "\n",
    "test_ds = paths_and_labels_to_dataset(path, labels)\n",
    "\n",
    "test_ds = test_ds.shuffle(buffer_size=BATCH_SIZE * 8, seed=SHUFFLE_SEED).batch(\n",
    "\tBATCH_SIZE\n",
    "\t)\n",
    "\n",
    "test_ds = test_ds.map(lambda x, y: (add_noise(x, noises, scale=SCALE), y))\n",
    "\n",
    "print(test_ds)\n",
    "print(valid_ds)\n",
    "\n",
    "for audios, labels in test_ds.take(1):\n",
    "\t# Get the signal FFT\n",
    "\ty_pred = model.predict(audios)\n",
    "\t# Take random samples\n",
    "\trnd = np.random.randint(0, 1, 1)\n",
    "\taudios = audios.numpy()[rnd, :]\n",
    "\tlabels = labels.numpy()[rnd]\n",
    "\ty_pred = np.argmax(y_pred, axis=-1)[rnd]\n",
    "\n",
    "\tfor index in range(1):\n",
    "\t\t\t# For every sample, print the true and predicted label\n",
    "\t\t\t# as well as run the voice with the noise\n",
    "\t\t\tprint(\n",
    "\t\t\t\t\"Speaker:\\33{} {}\\33[0m\\tPredicted:\\33{} {}\\33[0m\".format(\n",
    "\t\t\t\t\t\"[92m\",y_pred[index],\n",
    "\t\t\t\t\t\"[92m\", y_pred[index]\n",
    "\t\t\t\t)\n",
    "\t\t\t)\n",
    "\t\t\ta = model.evaluate(valid_ds)#Returns the loss value & metrics values for the model in test mode\n",
    "\t\t\tprint(a[1])\n",
    "\t\t\tif class_names[y_pred[index]] == \"Julia_Gillard\":\n",
    "\t\t\t\tprint(model.evaluate(test_ds)[1])\n",
    "\t\t\t\t# print(model.evaluate(valid_ds,verbose=0)[1])\n",
    "\t\t\t\tprint(\"Welcome\")\n",
    "\t\t\telse:\n",
    "\t\t\t\tprint(\"Sorry\")\n",
    "\t\t\tprint(class_names[y_pred[index]])\n",
    "\t\t\t# display(Audio(audios[index, :, :].squeeze(), rate=SAMPLING_RATE))"
   ]
  },
  {
   "cell_type": "code",
   "execution_count": 25,
   "metadata": {},
   "outputs": [
    {
     "name": "stdout",
     "output_type": "stream",
     "text": [
      "['C:\\\\Users\\\\Yasasi\\\\SR-Test2\\\\audio\\\\audio\\\\yasasi\\\\200.wav']\n",
      "<MapDataset shapes: ((None, 16000, 1), (None,)), types: (tf.float32, tf.string)>\n",
      "<MapDataset shapes: ((None, 16000, 1), (None,)), types: (tf.float32, tf.int32)>\n",
      "Speaker:\u001b[92m 5\u001b[0m\tPredicted:\u001b[92m 5\u001b[0m\n",
      "25/25 [==============================] - 11s 445ms/step - loss: 0.0713 - accuracy: 0.2064\n",
      "0.2064102590084076\n",
      "Sorry\n",
      "yasasi\n"
     ]
    }
   ],
   "source": [
    "#1\n",
    "path = [r\"C:\\Users\\Yasasi\\SR-Test2\\audio\\audio\\yasasi\\200.wav\"]\n",
    "print(path)\n",
    "labels = [\"unknown\"]\n",
    "\n",
    "# path_ds = tf.data.Dataset.from_tensor_slices(audio_paths)\n",
    "# audio_ds = path_ds.map(lambda x: path_to_audio(x))\n",
    "# label_ds = tf.data.Dataset.from_tensor_slices(labels)\n",
    "# return tf.data.Dataset.zip((audio_ds, label_ds))\n",
    "\n",
    "test_ds = paths_and_labels_to_dataset(path, labels)\n",
    "\n",
    "test_ds = test_ds.shuffle(buffer_size=BATCH_SIZE * 8, seed=SHUFFLE_SEED).batch(\n",
    "\tBATCH_SIZE\n",
    "\t)\n",
    "\n",
    "test_ds = test_ds.map(lambda x, y: (add_noise(x, noises, scale=SCALE), y))\n",
    "\n",
    "print(test_ds)\n",
    "print(valid_ds)\n",
    "\n",
    "for audios, labels in test_ds.take(1):\n",
    "\t# Get the signal FFT\n",
    "\ty_pred = model.predict(audios)\n",
    "\t# Take random samples\n",
    "\trnd = np.random.randint(0, 1, 1)\n",
    "\taudios = audios.numpy()[rnd, :]\n",
    "\tlabels = labels.numpy()[rnd]\n",
    "\ty_pred = np.argmax(y_pred, axis=-1)[rnd]\n",
    "\n",
    "\tfor index in range(1):\n",
    "\t\t\t# For every sample, print the true and predicted label\n",
    "\t\t\t# as well as run the voice with the noise\n",
    "\t\t\tprint(\n",
    "\t\t\t\t\"Speaker:\\33{} {}\\33[0m\\tPredicted:\\33{} {}\\33[0m\".format(\n",
    "\t\t\t\t\t\"[92m\",y_pred[index],\n",
    "\t\t\t\t\t\"[92m\", y_pred[index]\n",
    "\t\t\t\t)\n",
    "\t\t\t)\n",
    "\t\t\ta = model.evaluate(valid_ds)#Returns the loss value & metrics values for the model in test mode\n",
    "\t\t\tprint(a[1])\n",
    "\t\t\tif class_names[y_pred[index]] == \"Jens_Stoltenberg\":\n",
    "\t\t\t\tprint(model.evaluate(test_ds)[1])\n",
    "\t\t\t\t# print(model.evaluate(valid_ds,verbose=0)[1])\n",
    "\t\t\t\tprint(\"Welcome\")\n",
    "\t\t\telse:\n",
    "\t\t\t\tprint(\"Sorry\")\n",
    "\t\t\tprint(class_names[y_pred[index]])\n",
    "\t\t\t# display(Audio(audios[index, :, :].squeeze(), rate=SAMPLING_RATE))"
   ]
  },
  {
   "cell_type": "code",
   "execution_count": 26,
   "metadata": {},
   "outputs": [
    {
     "name": "stdout",
     "output_type": "stream",
     "text": [
      "['C:\\\\Users\\\\Yasasi\\\\SR-Test2\\\\audio\\\\audio\\\\yasasi\\\\0.wav']\n",
      "<MapDataset shapes: ((None, 16000, 1), (None,)), types: (tf.float32, tf.string)>\n",
      "<MapDataset shapes: ((None, 16000, 1), (None,)), types: (tf.float32, tf.int32)>\n",
      "Speaker:\u001b[92m 5\u001b[0m\tPredicted:\u001b[92m 5\u001b[0m\n",
      "25/25 [==============================] - 11s 434ms/step - loss: 0.0694 - accuracy: 0.2026\n",
      "0.20256410539150238\n",
      "Sorry\n",
      "yasasi\n"
     ]
    }
   ],
   "source": [
    "#1\n",
    "path = [r\"C:\\Users\\Yasasi\\SR-Test2\\audio\\audio\\yasasi\\0.wav\"]\n",
    "print(path)\n",
    "labels = [\"unknown\"]\n",
    "\n",
    "# path_ds = tf.data.Dataset.from_tensor_slices(audio_paths)\n",
    "# audio_ds = path_ds.map(lambda x: path_to_audio(x))\n",
    "# label_ds = tf.data.Dataset.from_tensor_slices(labels)\n",
    "# return tf.data.Dataset.zip((audio_ds, label_ds))\n",
    "\n",
    "test_ds = paths_and_labels_to_dataset(path, labels)\n",
    "\n",
    "test_ds = test_ds.shuffle(buffer_size=BATCH_SIZE * 8, seed=SHUFFLE_SEED).batch(\n",
    "\tBATCH_SIZE\n",
    "\t)\n",
    "\n",
    "test_ds = test_ds.map(lambda x, y: (add_noise(x, noises, scale=SCALE), y))\n",
    "\n",
    "print(test_ds)\n",
    "print(valid_ds)\n",
    "\n",
    "for audios, labels in test_ds.take(1):\n",
    "\t# Get the signal FFT\n",
    "\ty_pred = model.predict(audios)\n",
    "\t# Take random samples\n",
    "\trnd = np.random.randint(0, 1, 1)\n",
    "\taudios = audios.numpy()[rnd, :]\n",
    "\tlabels = labels.numpy()[rnd]\n",
    "\ty_pred = np.argmax(y_pred, axis=-1)[rnd]\n",
    "\n",
    "\tfor index in range(1):\n",
    "\t\t\t# For every sample, print the true and predicted label\n",
    "\t\t\t# as well as run the voice with the noise\n",
    "\t\t\tprint(\n",
    "\t\t\t\t\"Speaker:\\33{} {}\\33[0m\\tPredicted:\\33{} {}\\33[0m\".format(\n",
    "\t\t\t\t\t\"[92m\",y_pred[index],\n",
    "\t\t\t\t\t\"[92m\", y_pred[index]\n",
    "\t\t\t\t)\n",
    "\t\t\t)\n",
    "\t\t\ta = model.evaluate(valid_ds)#Returns the loss value & metrics values for the model in test mode\n",
    "\t\t\tprint(a[1])\n",
    "\t\t\tif class_names[y_pred[index]] == \"Jens_Stoltenberg\":\n",
    "\t\t\t\tprint(model.evaluate(test_ds)[1])\n",
    "\t\t\t\t# print(model.evaluate(valid_ds,verbose=0)[1])\n",
    "\t\t\t\tprint(\"Welcome\")\n",
    "\t\t\telse:\n",
    "\t\t\t\tprint(\"Sorry\")\n",
    "\t\t\tprint(class_names[y_pred[index]])\n",
    "\t\t\t# display(Audio(audios[index, :, :].squeeze(), rate=SAMPLING_RATE))"
   ]
  },
  {
   "cell_type": "code",
   "execution_count": 27,
   "metadata": {
    "colab": {
     "base_uri": "https://localhost:8080/"
    },
    "executionInfo": {
     "elapsed": 541,
     "status": "ok",
     "timestamp": 1621957366577,
     "user": {
      "displayName": "Yasasi Kulathunge",
      "photoUrl": "https://lh3.googleusercontent.com/a-/AOh14Gh1m9fAy39AOk16svCWmtjZOyIIqkxz6Tl6Z_g04-Q=s64",
      "userId": "09183028664422477504"
     },
     "user_tz": -330
    },
    "id": "yYBPFNQ3Ijum",
    "outputId": "b87d8ca3-77a3-4b3d-ab9e-78fac8abe5b2"
   },
   "outputs": [
    {
     "name": "stdout",
     "output_type": "stream",
     "text": [
      "Speaker:\u001b[92m 4\u001b[0m\tPredicted:\u001b[92m 4\u001b[0m\n",
      "Sorry\n",
      "Nelson_Mandela\n"
     ]
    }
   ],
   "source": [
    "#1\n",
    "def paths_to_dataset(audio_paths):\n",
    "\t\"\"\"Constructs a dataset of audios and labels.\"\"\"\n",
    "\tpath_ds = tf.data.Dataset.from_tensor_slices(audio_paths)\n",
    "\t# audio_ds = path_ds.map(lambda x: path_to_audio(x))\n",
    "\treturn tf.data.Dataset.zip((path_ds)) #Dataset.zip transformation takes multiple datasets and iterates through them in parallel.\n",
    "\n",
    "def predict(path, labels):\n",
    "\ttest = paths_and_labels_to_dataset(path, labels)\n",
    "\n",
    "\n",
    "\ttest = test.shuffle(buffer_size=BATCH_SIZE * 8, seed=SHUFFLE_SEED).batch(\n",
    "\tBATCH_SIZE\n",
    "\t)\n",
    "    #prefetch -This allows later elements to be prepared while the current element is being processed                            \n",
    "\ttest = test.prefetch(tf.data.experimental.AUTOTUNE) \n",
    "\n",
    "#MAP -applies a function on all the items of an iterator given as input.(can be a list,)\n",
    "#lambda function can take any number of arguments, but can only have one expression.\n",
    "\ttest = test.map(lambda x, y: (add_noise(x, noises, scale=SCALE), y))\n",
    "\n",
    "\tfor audios, labels in test.take(1):\n",
    "\t\t# Get the signal FFT\n",
    "\t\tffts = audio_to_fft(audios)\n",
    "\t\t# Predict\n",
    "\t\ty_pred = model.predict(ffts)\n",
    "\t\t# Take random samples\n",
    "\t\trnd = np.random.randint(0, 1, 1)\n",
    "\t\taudios = audios.numpy()[rnd, :]\n",
    "\t\tlabels = labels.numpy()[rnd]\n",
    "\t\ty_pred = np.argmax(y_pred, axis=-1)[rnd]\n",
    "\n",
    "\t\tfor index in range(1):\n",
    "\t\t\t# For every sample, print the true and predicted label\n",
    "\t\t\t# as well as run the voice with the noise\n",
    "\t\t\tprint(\n",
    "\t\t\t\t\"Speaker:\\33{} {}\\33[0m\\tPredicted:\\33{} {}\\33[0m\".format(\n",
    "\t\t\t\t\t\"[92m\",y_pred[index],\n",
    "\t\t\t\t\t\"[92m\", y_pred[index]\n",
    "\t\t\t\t)\n",
    "\t\t\t)\n",
    "\t\t\tif class_names[y_pred[index]] == \"Jens_Stoltenberg\":\n",
    "\t\t\t\tprint(\"Welcome\")\n",
    "\t\t\telse:\n",
    "\t\t\t\tprint(\"Sorry\")\n",
    "\t\t\tprint(class_names[y_pred[index]])\n",
    "\t\t\t# display(Audio(audios[index, :, :].squeeze(), rate=SAMPLING_RATE))\n",
    "\n",
    "# predict(\"content/1000.wav\")\n",
    "\n",
    "path = [r\"C:\\Users\\Yasasi\\SR-Test2\\audio\\audio\\yasasi\\10.wav\"]\n",
    "labels = [\"unknown\"]\n",
    "\n",
    "# path_ds = tf.data.Dataset.from_tensor_slices(audio_paths)\n",
    "# audio_ds = path_ds.map(lambda x: path_to_audio(x))\n",
    "# label_ds = tf.data.Dataset.from_tensor_slices(labels)\n",
    "# return tf.data.Dataset.zip((audio_ds, label_ds))\n",
    "\n",
    "\n",
    "predict(path, labels)\n",
    "# except:\n",
    "#     print(\"Error! Check if the file correctly passed or not!\")"
   ]
  },
  {
   "cell_type": "code",
   "execution_count": 28,
   "metadata": {},
   "outputs": [
    {
     "name": "stdout",
     "output_type": "stream",
     "text": [
      "Speaker:\u001b[92m 4\u001b[0m\tPredicted:\u001b[92m 4\u001b[0m\n",
      "Sorry\n",
      "Nelson_Mandela\n"
     ]
    }
   ],
   "source": [
    "#1\n",
    "def paths_to_dataset(audio_paths):\n",
    "\t\"\"\"Constructs a dataset of audios and labels.\"\"\"\n",
    "\tpath_ds = tf.data.Dataset.from_tensor_slices(audio_paths)\n",
    "\t# audio_ds = path_ds.map(lambda x: path_to_audio(x))\n",
    "\treturn tf.data.Dataset.zip((path_ds)) #Dataset.zip transformation takes multiple datasets and iterates through them in parallel.\n",
    "\n",
    "def predict(path, labels):\n",
    "\ttest = paths_and_labels_to_dataset(path, labels)\n",
    "\n",
    "\n",
    "\ttest = test.shuffle(buffer_size=BATCH_SIZE * 8, seed=SHUFFLE_SEED).batch(\n",
    "\tBATCH_SIZE\n",
    "\t)\n",
    "    #prefetch -This allows later elements to be prepared while the current element is being processed                            \n",
    "\ttest = test.prefetch(tf.data.experimental.AUTOTUNE) \n",
    "\n",
    "#MAP -applies a function on all the items of an iterator given as input.(can be a list,)\n",
    "#lambda function can take any number of arguments, but can only have one expression.\n",
    "\ttest = test.map(lambda x, y: (add_noise(x, noises, scale=SCALE), y))\n",
    "\n",
    "\tfor audios, labels in test.take(1):\n",
    "\t\t# Get the signal FFT\n",
    "\t\tffts = audio_to_fft(audios)\n",
    "\t\t# Predict\n",
    "\t\ty_pred = model.predict(ffts)\n",
    "\t\t# Take random samples\n",
    "\t\trnd = np.random.randint(0, 1, 1)\n",
    "\t\taudios = audios.numpy()[rnd, :]\n",
    "\t\tlabels = labels.numpy()[rnd]\n",
    "\t\ty_pred = np.argmax(y_pred, axis=-1)[rnd]\n",
    "\n",
    "\t\tfor index in range(1):\n",
    "\t\t\t# For every sample, print the true and predicted label\n",
    "\t\t\t# as well as run the voice with the noise\n",
    "\t\t\tprint(\n",
    "\t\t\t\t\"Speaker:\\33{} {}\\33[0m\\tPredicted:\\33{} {}\\33[0m\".format(\n",
    "\t\t\t\t\t\"[92m\",y_pred[index],\n",
    "\t\t\t\t\t\"[92m\", y_pred[index]\n",
    "\t\t\t\t)\n",
    "\t\t\t)\n",
    "\t\t\tif class_names[y_pred[index]] == \"Julia_Gillard\":\n",
    "\t\t\t\tprint(\"Welcome\")\n",
    "\t\t\telse:\n",
    "\t\t\t\tprint(\"Sorry\")\n",
    "\t\t\tprint(class_names[y_pred[index]])\n",
    "\t\t\t# display(Audio(audios[index, :, :].squeeze(), rate=SAMPLING_RATE))\n",
    "\n",
    "# predict(\"content/1000.wav\")\n",
    "\n",
    "path = [r\"C:\\Users\\Yasasi\\SR-Test2\\audio\\audio\\yasasi\\20.wav\"]\n",
    "labels = [\"unknown\"]\n",
    "\n",
    "# path_ds = tf.data.Dataset.from_tensor_slices(audio_paths)\n",
    "# audio_ds = path_ds.map(lambda x: path_to_audio(x))\n",
    "# label_ds = tf.data.Dataset.from_tensor_slices(labels)\n",
    "# return tf.data.Dataset.zip((audio_ds, label_ds))\n",
    "\n",
    "\n",
    "predict(path, labels)\n",
    "# except:\n",
    "#     print(\"Error! Check if the file correctly passed or not!\")"
   ]
  },
  {
   "cell_type": "code",
   "execution_count": 29,
   "metadata": {
    "colab": {
     "base_uri": "https://localhost:8080/",
     "height": 630
    },
    "executionInfo": {
     "elapsed": 1094,
     "status": "ok",
     "timestamp": 1621957425728,
     "user": {
      "displayName": "Yasasi Kulathunge",
      "photoUrl": "https://lh3.googleusercontent.com/a-/AOh14Gh1m9fAy39AOk16svCWmtjZOyIIqkxz6Tl6Z_g04-Q=s64",
      "userId": "09183028664422477504"
     },
     "user_tz": -330
    },
    "id": "XFR_Ive9Madt",
    "outputId": "e383689b-5159-4ce6-e961-f7c96bb6d785"
   },
   "outputs": [
    {
     "data": {
      "image/png": "[encoded data removed]",
      "text/plain": [
       "<Figure size 1440x720 with 2 Axes>"
      ]
     },
     "metadata": {
      "needs_background": "light"
     },
     "output_type": "display_data"
    }
   ],
   "source": [
    "#1\n",
    "import matplotlib.pyplot as plt\n",
    "\n",
    "# plot the evolution of Loss and Acuracy on the train and validation sets\n",
    "# Create a figure of size 20x10 inches\n",
    "plt.figure(figsize=(20,10))\n",
    "# Create a new subplot from a grid of 1x2x1\n",
    "plt.subplot(1, 2, 1)\n",
    "#Add a centered suptitle to the figure.\n",
    "plt.suptitle('Optimizer : Adam', fontsize=10)\n",
    "#y lable\n",
    "plt.ylabel('Loss', fontsize=16)\n",
    "# summarize history for loss\n",
    "plt.plot(history.history['loss'], label='Training Loss')\n",
    "plt.plot(history.history['val_loss'], label='Validation Loss')\n",
    "#location of the legend.\n",
    "plt.legend(loc='upper right')\n",
    "# Create a new subplot from a grid of 1x2x1\n",
    "plt.subplot(1, 2, 2)\n",
    "#ylable\n",
    "plt.ylabel('Accuracy', fontsize=16)\n",
    "# summarize history for accuracy\n",
    "plt.plot(history.history['accuracy'], label='Training Accuracy')\n",
    "plt.plot(history.history['val_accuracy'], label='Validation Accuracy')\n",
    "plt.legend(loc='lower right')\n",
    "plt.show()"
   ]
  },
  {
   "cell_type": "code",
   "execution_count": 30,
   "metadata": {},
   "outputs": [],
   "source": [
    "predicted_target_all=[]\n",
    "actual_target_all=[]\n",
    "for val_ds in valid_ds:\n",
    "    \n",
    "    test_data=val_ds[0]\n",
    "    test_target=val_ds[1]\n",
    "    predicted_target=model.predict(test_data)\n",
    "    predicted_target_all.append(np.argmax(predicted_target,axis=1).flatten())\n",
    "    actual_target_all.append(np.array(test_target).flatten())\n",
    "predicted_target_all=np.concatenate(predicted_target_all,axis=0)\n",
    "actual_target_all=np.concatenate(actual_target_all,axis=0)"
   ]
  },
  {
   "cell_type": "code",
   "execution_count": 31,
   "metadata": {},
   "outputs": [
    {
     "data": {
      "text/plain": [
       "(780,)"
      ]
     },
     "execution_count": 31,
     "metadata": {},
     "output_type": "execute_result"
    }
   ],
   "source": [
    "predicted_target_all.shape"
   ]
  },
  {
   "cell_type": "code",
   "execution_count": 32,
   "metadata": {},
   "outputs": [
    {
     "data": {
      "text/plain": [
       "(780,)"
      ]
     },
     "execution_count": 32,
     "metadata": {},
     "output_type": "execute_result"
    }
   ],
   "source": [
    "actual_target_all.shape"
   ]
  },
  {
   "cell_type": "code",
   "execution_count": 33,
   "metadata": {},
   "outputs": [
    {
     "name": "stdout",
     "output_type": "stream",
     "text": [
      "[[149   5   0   0   0   0]\n",
      " [  6 134   0   0   0   0]\n",
      " [  1   2 149   0   0   0]\n",
      " [  7   1   0 139   0   0]\n",
      " [  0   0   1   0 144   0]\n",
      " [  0   0   0   0   0  42]]\n"
     ]
    }
   ],
   "source": [
    "from sklearn.metrics import confusion_matrix,ConfusionMatrixDisplay\n",
    "\n",
    "matrix=confusion_matrix(actual_target_all,predicted_target_all)\n",
    "print(matrix)"
   ]
  },
  {
   "cell_type": "code",
   "execution_count": 55,
   "metadata": {},
   "outputs": [
    {
     "data": {
      "text/plain": [
       "<sklearn.metrics._plot.confusion_matrix.ConfusionMatrixDisplay at 0x201088c2640>"
      ]
     },
     "execution_count": 55,
     "metadata": {},
     "output_type": "execute_result"
    },
    {
     "data": {
      "image/png": "[encoded data removed]",
      "text/plain": [
       "<Figure size 432x288 with 2 Axes>"
      ]
     },
     "metadata": {
      "needs_background": "light"
     },
     "output_type": "display_data"
    }
   ],
   "source": [
    "disp = ConfusionMatrixDisplay(confusion_matrix=matrix,display_labels=['Benjamin_Netanyau', 'Jens_Stoltenberg', 'Julia_Gillard', 'Magaret_Tarcher', 'Nelson_Mandela', 'yasasi'])\n",
    "\n",
    "disp.plot()\n"
   ]
  },
  {
   "cell_type": "code",
   "execution_count": 51,
   "metadata": {
    "scrolled": true
   },
   "outputs": [
    {
     "data": {
      "text/plain": [
       "<Figure size 432x288 with 0 Axes>"
      ]
     },
     "metadata": {},
     "output_type": "display_data"
    }
   ],
   "source": [
    " plt.savefig('confusion_matrix.png')\n",
    "    "
   ]
  },
  {
   "cell_type": "code",
   "execution_count": 52,
   "metadata": {},
   "outputs": [
    {
     "name": "stdout",
     "output_type": "stream",
     "text": [
      "                   precision    recall  f1-score   support\n",
      "\n",
      "Benjamin_Netanyau       0.91      0.97      0.94       154\n",
      " Jens_Stoltenberg       0.94      0.96      0.95       140\n",
      "    Julia_Gillard       0.99      0.98      0.99       152\n",
      "  Magaret_Tarcher       1.00      0.95      0.97       147\n",
      "   Nelson_Mandela       1.00      0.99      1.00       145\n",
      "           yasasi       1.00      1.00      1.00        42\n",
      "\n",
      "         accuracy                           0.97       780\n",
      "        macro avg       0.98      0.97      0.97       780\n",
      "     weighted avg       0.97      0.97      0.97       780\n",
      "\n"
     ]
    }
   ],
   "source": [
    "from sklearn.metrics import classification_report\n",
    "\n",
    "print(classification_report(actual_target_all,predicted_target_all,target_names=['Benjamin_Netanyau', 'Jens_Stoltenberg', 'Julia_Gillard', 'Magaret_Tarcher', 'Nelson_Mandela', 'yasasi']))\n"
   ]
  },
  {
   "cell_type": "code",
   "execution_count": null,
   "metadata": {},
   "outputs": [],
   "source": []
  },
  {
   "cell_type": "code",
   "execution_count": null,
   "metadata": {},
   "outputs": [],
   "source": []
  }
 ],
 "metadata": {
  "colab": {
   "authorship_tag": "ABX9TyOArolSJ3sOsOX2bFnBDTQ6",
   "collapsed_sections": [],
   "name": "SpeakerR.ipynb",
   "provenance": []
  },
  "kernelspec": {
   "display_name": "Python 3",
   "language": "python",
   "name": "python3"
  },
  "language_info": {
   "codemirror_mode": {
    "name": "ipython",
    "version": 3
   },
   "file_extension": ".py",
   "mimetype": "text/x-python",
   "name": "python",
   "nbconvert_exporter": "python",
   "pygments_lexer": "ipython3",
   "version": "3.8.8"
  }
 },
 "nbformat": 4,
 "nbformat_minor": 4
}
